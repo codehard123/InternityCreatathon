{
 "cells": [
  {
   "cell_type": "code",
   "execution_count": 30,
   "metadata": {},
   "outputs": [
    {
     "name": "stdout",
     "output_type": "stream",
     "text": [
      "      Unnamed: 0   time  day  dustbin  percentage\n",
      "0              0  11.00  0.0      0.0    2.000000\n",
      "1              1  11.00  0.0      1.0   73.000000\n",
      "2              2  11.00  0.0      2.0   28.000000\n",
      "3              3  11.00  0.0      3.0   52.000000\n",
      "4              4  11.00  0.0      4.0   63.000000\n",
      "5              5  11.00  0.0      5.0   54.000000\n",
      "6              6  11.00  0.0      6.0   22.000000\n",
      "7              7  11.00  0.0      7.0   28.000000\n",
      "8              8  11.00  0.0      8.0   13.000000\n",
      "9              9  11.00  0.0      9.0   24.000000\n",
      "10            10  11.00  0.0     10.0    5.000000\n",
      "11            11  11.00  0.0     11.0   35.000000\n",
      "12            12  11.00  0.0     12.0   26.000000\n",
      "13            13  11.00  0.0     13.0   18.000000\n",
      "14            14  11.00  0.0     14.0    1.000000\n",
      "15            15  11.00  0.0     15.0   50.000000\n",
      "16            16  11.00  0.0     16.0    7.000000\n",
      "17            17  11.00  0.0     17.0   51.000000\n",
      "18            18  11.00  0.0     18.0   31.000000\n",
      "19            19  11.00  0.0     19.0   72.000000\n",
      "20            20  11.00  0.0     20.0   64.000000\n",
      "21            21  11.00  0.0     21.0    9.000000\n",
      "22            22  11.00  0.0     22.0   51.000000\n",
      "23            23  11.00  0.0     23.0    1.000000\n",
      "24            24  11.00  0.0     24.0   59.000000\n",
      "25            25  11.05  0.0      0.0    2.180000\n",
      "26            26  11.05  0.0      1.0   82.490000\n",
      "27            27  11.05  0.0      2.0   31.640000\n",
      "28            28  11.05  0.0      3.0   55.120000\n",
      "29            29  11.05  0.0      4.0   72.450000\n",
      "...          ...    ...  ...      ...         ...\n",
      "7973        7973  13.30  2.0     23.0   78.011632\n",
      "7974        7974  13.30  2.0     24.0   45.747000\n",
      "7975        7975  13.35  2.0      0.0   74.358901\n",
      "7976        7976  13.35  2.0      1.0   68.930749\n",
      "7977        7977  13.35  2.0      2.0   36.151562\n",
      "7978        7978  13.35  2.0      3.0   24.924438\n",
      "7979        7979  13.35  2.0      4.0   21.379710\n",
      "7980        7980  13.35  2.0      5.0   42.863150\n",
      "7981        7981  13.35  2.0      6.0   18.635776\n",
      "7982        7982  13.35  2.0      7.0   29.806744\n",
      "7983        7983  13.35  2.0      8.0   34.028026\n",
      "7984        7984  13.35  2.0      9.0   53.482743\n",
      "7985        7985  13.35  2.0     10.0    8.726400\n",
      "7986        7986  13.35  2.0     11.0   29.338297\n",
      "7987        7987  13.35  2.0     12.0   25.603689\n",
      "7988        7988  13.35  2.0     13.0   54.588186\n",
      "7989        7989  13.35  2.0     14.0   80.982607\n",
      "7990        7990  13.35  2.0     15.0   77.040557\n",
      "7991        7991  13.35  2.0     16.0   25.486870\n",
      "7992        7992  13.35  2.0     17.0   67.091002\n",
      "7993        7993  13.35  2.0     18.0   45.490071\n",
      "7994        7994  13.35  2.0     19.0   44.706130\n",
      "7995        7995  13.35  2.0     20.0   85.402139\n",
      "7996        7996  13.35  2.0     21.0   49.005021\n",
      "7997        7997  13.35  2.0     22.0   46.153800\n",
      "7998        7998  13.35  2.0     23.0   37.000000\n",
      "7999        7999  13.35  2.0     24.0   46.204470\n",
      "8000        8014    NaN  NaN      NaN    0.000000\n",
      "8001        8015    NaN  NaN      NaN    0.000000\n",
      "8002        8020    NaN  NaN      NaN    0.000000\n",
      "\n",
      "[8003 rows x 5 columns]\n"
     ]
    }
   ],
   "source": [
    "import numpy as np\n",
    "from sklearn import preprocessing ,cross_validation,svm\n",
    "import pandas as pd\n",
    "from sklearn.cross_validation import train_test_split\n",
    "from sklearn.cluster import KMeans\n",
    "from sklearn import metrics\n",
    "from sklearn.cross_validation import cross_val_score\n",
    "import matplotlib.pyplot as plt\n",
    "df=pd.read_csv('dataset5.csv')\n",
    "print(df)"
   ]
  },
  {
   "cell_type": "code",
   "execution_count": 4,
   "metadata": {},
   "outputs": [
    {
     "name": "stdout",
     "output_type": "stream",
     "text": [
      "[[11  0  0]\n",
      " [11  0  1]\n",
      " [11  0  2]\n",
      " ...\n",
      " [13  2 22]\n",
      " [13  2 23]\n",
      " [13  2 24]]\n",
      "[ 2 73 28 ... 46 37 46]\n",
      "8000\n"
     ]
    }
   ],
   "source": [
    "X=df.iloc[0:8000,[1,2,3]].values.astype(int)\n",
    "y=df.iloc[0:8000,4].values.astype(int)\n",
    "print(X)\n",
    "print(y)\n",
    "print(len(X))"
   ]
  },
  {
   "cell_type": "code",
   "execution_count": 5,
   "metadata": {},
   "outputs": [],
   "source": [
    "X_train ,X_test,y_train, y_test=cross_validation.train_test_split(X,y,test_size=0.2)"
   ]
  },
  {
   "cell_type": "code",
   "execution_count": 6,
   "metadata": {
    "collapsed": true
   },
   "outputs": [],
   "source": [
    "clf=svm.SVC()"
   ]
  },
  {
   "cell_type": "code",
   "execution_count": 7,
   "metadata": {},
   "outputs": [
    {
     "data": {
      "text/plain": [
       "SVC(C=1.0, cache_size=200, class_weight=None, coef0=0.0,\n",
       "  decision_function_shape='ovr', degree=3, gamma='auto', kernel='rbf',\n",
       "  max_iter=-1, probability=False, random_state=None, shrinking=True,\n",
       "  tol=0.001, verbose=False)"
      ]
     },
     "execution_count": 7,
     "metadata": {},
     "output_type": "execute_result"
    }
   ],
   "source": [
    "clf.fit(X_train,y_train)"
   ]
  },
  {
   "cell_type": "code",
   "execution_count": 8,
   "metadata": {},
   "outputs": [],
   "source": [
    "#print(cross_val_score(clf, X_test, y_test, cv=10, scoring='accuracy').mean())\n"
   ]
  },
  {
   "cell_type": "code",
   "execution_count": 9,
   "metadata": {},
   "outputs": [],
   "source": [
    "xy=np.array([13 , 2 ,5]).reshape(1,-1)\n",
    "#print(Xtest)\n",
    "prdection=clf.predict(xy)\n",
    "#x_test will be containg time and day for checking\n",
    "\n",
    "#now we will see at present time which of dustbins are above 75%"
   ]
  },
  {
   "cell_type": "code",
   "execution_count": 10,
   "metadata": {},
   "outputs": [
    {
     "name": "stdout",
     "output_type": "stream",
     "text": [
      "[17]\n"
     ]
    }
   ],
   "source": [
    "print(prdection)"
   ]
  },
  {
   "cell_type": "code",
   "execution_count": 11,
   "metadata": {},
   "outputs": [],
   "source": [
    "set1=set()\n",
    "for i in range(len(prdection)):\n",
    "    if prdection[i]>75:#threshold value 75%\n",
    "        set1.add(i%25)"
   ]
  },
  {
   "cell_type": "code",
   "execution_count": 12,
   "metadata": {},
   "outputs": [
    {
     "name": "stdout",
     "output_type": "stream",
     "text": [
      "[14  2  5]\n"
     ]
    }
   ],
   "source": [
    "xy[0][0]=xy[0][0]+1\n",
    "print(xy[0])\n",
    "prdection=clf.predict(xy)\n",
    "#x_test will be containg time + one hourrr   and day for checking\n",
    "\n",
    "#now we will see at present time which of dustbins are above 90% predection for completion of bin\n",
    "for i in range(len(prdection)):\n",
    "    if prdection[i]>90:#threshold value 90%\n",
    "        set1.add(i%25)"
   ]
  },
  {
   "cell_type": "code",
   "execution_count": 13,
   "metadata": {},
   "outputs": [
    {
     "name": "stdout",
     "output_type": "stream",
     "text": [
      "[17]\n"
     ]
    }
   ],
   "source": [
    "print(prdection)"
   ]
  },
  {
   "cell_type": "markdown",
   "metadata": {},
   "source": [
    "# shortest path\n"
   ]
  },
  {
   "cell_type": "code",
   "execution_count": 14,
   "metadata": {},
   "outputs": [
    {
     "name": "stdout",
     "output_type": "stream",
     "text": [
      "{'1': {'2': 3, '4': 10}, '2': {'1': 3, '3': 1}, '3': {'2': 1, '4': 2, '5': 1}, '4': {'1': 10, '3': 2, '6': 7, '5': 5}, '6': {'4': 7}, '7': {'5': 2}, '5': {'7': 2, '3': 1, '4': 5}}\n",
      "Graph to visit: [[0, 6, 5], [6, 0, 7], [5, 7, 0]]\n",
      "1\n",
      "Total Cost(back to src): 18\n",
      "Sequence of path:  ['4', '1', '7']\n",
      "aaaa:  ['4', '3', '2', '1']\n",
      "aaaa:  ['1', '2', '3', '5', '7']\n",
      "Final Path to return: \n",
      "['4', '3', '2', '1', '2', '3', '5', '7']\n"
     ]
    }
   ],
   "source": [
    "from priodict import priorityDictionary\n",
    "\n",
    "from collections import defaultdict\n",
    "\n",
    "def Dijkstra(G, start, end=None):\n",
    "   \n",
    "\n",
    "    D = {}  # dictionary of final distances\n",
    "    P = {}  # dictionary of predecessors\n",
    "    Q = priorityDictionary()  # estimated distances of non-final vertices\n",
    "    Q[start] = 0\n",
    "\n",
    "    for v in Q:\n",
    "        D[v] = Q[v]\n",
    "        if v == end:\n",
    "            break\n",
    "\n",
    "        for w in G[v]:\n",
    "            vwLength = D[v] + G[v][w]\n",
    "            if w in D:\n",
    "                if vwLength < D[w]:\n",
    "                    raise ValueError(\"Dijkstra: found better path to already-final vertex\")\n",
    "            elif w not in Q or vwLength < Q[w]:\n",
    "                Q[w] = vwLength\n",
    "                P[w] = v\n",
    "\n",
    "    return (D, P)\n",
    "\n",
    "\n",
    "def shortestPath(G, start, end):\n",
    "    \"\"\"\n",
    "    Find a single shortest path from the given start vertex to the given\n",
    "    end vertex. The input has the same conventions as Dijkstra(). The\n",
    "    output is a list of the vertices in order along the shortest path.\n",
    "    \"\"\"\n",
    "    D, P = Dijkstra(G, start, end)\n",
    "    Path = []\n",
    "    while 1:\n",
    "        Path.append(end)\n",
    "        if end == start:\n",
    "            break\n",
    "        end = P[end]\n",
    "    Path.reverse()\n",
    "    return Path\n",
    "\n",
    "def least(c,graph_to_visit,n,completed,cost):\n",
    "    nc=999\n",
    "    min_x=999\n",
    "    kmin=0\n",
    "    for i in range(n):\n",
    "        if graph_to_visit[c][i]!=0 and completed[i]==0:\n",
    "            if graph_to_visit[c][i]+graph_to_visit[i][c]<min_x:\n",
    "                min_x=graph_to_visit[i][0]+graph_to_visit[c][i]\n",
    "                kmin=graph_to_visit[c][i]\n",
    "                nc=i\n",
    "    if min_x!=999:\n",
    "        cost+=kmin\n",
    "        \n",
    "    return (nc,cost)\n",
    "\n",
    "def mincost(city,graph_to_visit,n,completed,cost=0,path=[]):\n",
    "    completed[city]=1\n",
    "#     print(city+1,\"--> \",end=\" \" )\n",
    "    path.append(city)\n",
    "\n",
    "    ncity,cost=least(city,graph_to_visit,n,completed,cost)\n",
    "    \n",
    "    if ncity==999:\n",
    "        ncity=0\n",
    "        print(ncity+1)\n",
    "        cost+=graph_to_visit[city][ncity]\n",
    "        return (cost,path,completed)\n",
    "    cost,path,completed=mincost(ncity,graph_to_visit,n,completed,cost,path)\n",
    "    return (cost,path,completed)\n",
    "\n",
    "if __name__ == \"__main__\":\n",
    "    # n = int(input())\n",
    "    # m = int(input())\n",
    "\n",
    "    n = 7\n",
    "    m = 8\n",
    "\n",
    "    location_with_distance= [['1', '2', 3],\n",
    "                             ['2', '3', 1],\n",
    "                             ['4', '1', 10],\n",
    "                             ['3', '4', 2],\n",
    "                             ['4', '6', 7],\n",
    "                             ['7', '5', 2],\n",
    "                             ['3', '5', 1],\n",
    "                             ['4', '5', 5]]\n",
    "    \n",
    "    set1.add('1')\n",
    "    set1.add('4')\n",
    "    set1.add('7')\n",
    "    location_to_visit=list(set1)\n",
    "\n",
    "\n",
    "    dustbins_location=[]\n",
    "    main_graph=defaultdict(dict)\n",
    "    gtime={}\n",
    "    for i in range(0,m):\n",
    "    #     input_path=input().split()\n",
    "\n",
    "        input_path=location_with_distance[i]\n",
    "\n",
    "    #     will store the time from one path to other path\n",
    "        if(input_path[0]==input_path[1]):\n",
    "            continue\n",
    "\n",
    "        main_graph[input_path[0]][input_path[1]]=input_path[2]\n",
    "        main_graph[input_path[1]][input_path[0]]=input_path[2]\n",
    "\n",
    "    main_graph=dict(main_graph)\n",
    "    print(main_graph)\n",
    "\n",
    "    for i in main_graph:\n",
    "        dustbins_location.append(i)\n",
    "\n",
    "\n",
    "    number_of_location_to_visit=len(location_to_visit)\n",
    "    graph_to_visit=[]  \n",
    "    for i in range(number_of_location_to_visit):\n",
    "        arr=[]\n",
    "        for j in range(number_of_location_to_visit):\n",
    "            arr.append(0)\n",
    "        graph_to_visit.append(arr)\n",
    "            \n",
    "#     check all the combinations\n",
    "    for i in range(number_of_location_to_visit-1):\n",
    "        for j in range(i+1,number_of_location_to_visit):\n",
    "\n",
    "            minimum_distance_list=shortestPath(main_graph,location_to_visit[i],location_to_visit[j])\n",
    "#             print(minimum_distance_list)\n",
    "            minimum_distance=0\n",
    "            for x in range(len(minimum_distance_list)-1):\n",
    "                minimum_distance+=main_graph[minimum_distance_list[x]][minimum_distance_list[x+1]]\n",
    "#             print(total_dist)\n",
    "            \n",
    "            graph_to_visit[i][j]=graph_to_visit[j][i]=minimum_distance\n",
    "        \n",
    "    print(\"Graph to visit:\" ,graph_to_visit)\n",
    "        \n",
    "    # graph_to_visit=[[0, 4, 1, 3],[4, 0, 2, 1],[1, 2, 0, 5],[3, 1, 5, 0]]\n",
    "    completed=[]\n",
    "    for i in range(number_of_location_to_visit):\n",
    "        completed.append(0)\n",
    "    cost,final_path,completed=mincost(0,graph_to_visit,3,completed)\n",
    "    print(\"Total Cost(back to src):\",cost)\n",
    "    for i in range(len(final_path)): final_path[i]=location_to_visit[i]\n",
    "    print(\"Sequence of path: \",final_path)\n",
    "    \n",
    "    final_full_path=[final_path[0]]\n",
    "    for i in range(len(final_path)-1):\n",
    "        minimum_distance_list=shortestPath(main_graph,final_path[i],final_path[i+1])\n",
    "        print(\"aaaa: \",minimum_distance_list)\n",
    "        final_full_path+=minimum_distance_list[1:-1]\n",
    "        final_full_path+=[final_path[i+1]]\n",
    "        \n",
    "    print(\"Final Path to return: \")\n",
    "    print(final_full_path)\n",
    "\n"
   ]
  },
  {
   "cell_type": "markdown",
   "metadata": {},
   "source": [
    "# sending data to server by the path obtained"
   ]
  },
  {
   "cell_type": "code",
   "execution_count": 15,
   "metadata": {},
   "outputs": [
    {
     "name": "stdout",
     "output_type": "stream",
     "text": [
      "    id    latitude  longitude\n",
      "0    1    28.63133   77.37373\n",
      "1    2     28.6189   77.37383\n",
      "2    3    28.61761   77.37978\n",
      "3    4    28.61085   77.35435\n",
      "4    5    28.60087   77.37241\n",
      "5    6    28.61794   77.36456\n",
      "6    7     28.6315   77.35533\n",
      "7    8    28.62408   77.36495\n",
      "8    9    28.61873   77.34156\n",
      "9   10    28.63237   77.33825\n",
      "10  11    28.62231   77.33224\n",
      "11  12    28.60573   77.33353\n",
      "12  13    28.60012   77.35151\n",
      "13  14    28.61033   77.37284\n",
      "14  15     28.6182   77.35512\n",
      "15  16    28.62743   77.38164\n",
      "16  17    28.65624   77.37662\n",
      "17  18   28 .64818   77.35945\n",
      "18  19    28.64517   77.37889\n",
      "19  20    28.63933   77.37040\n",
      "20  21    28.62619   77.34838\n",
      "21  22    28.61436   77.34825\n",
      "22  23    28.62106   77.35941\n",
      "23  24    28.62517   77.37443\n",
      "24  25    28.60792   77.34190\n"
     ]
    }
   ],
   "source": [
    "df2=pd.read_csv('locations.csv')\n",
    "print(df2)"
   ]
  },
  {
   "cell_type": "code",
   "execution_count": 25,
   "metadata": {},
   "outputs": [],
   "source": [
    "X1=df2.iloc[0:,1].values.astype(str)\n",
    "#print(X1.head)"
   ]
  },
  {
   "cell_type": "code",
   "execution_count": 28,
   "metadata": {},
   "outputs": [],
   "source": [
    "we=np.array(['1','2','3','5','7','5','3','4'])\n",
    "d = dict()\n",
    "for i in range (len(we)):\n",
    "    \n",
    "    d[we[i]]=X1[i]"
   ]
  },
  {
   "cell_type": "code",
   "execution_count": 29,
   "metadata": {},
   "outputs": [
    {
     "name": "stdout",
     "output_type": "stream",
     "text": [
      "{'1': '28.63133', '2': '28.6189', '3': '28.6315', '5': '28.61794', '7': '28.60087', '4': '28.62408'}\n"
     ]
    }
   ],
   "source": [
    "print(d)"
   ]
  },
  {
   "cell_type": "code",
   "execution_count": null,
   "metadata": {
    "collapsed": true
   },
   "outputs": [],
   "source": []
  }
 ],
 "metadata": {
  "kernelspec": {
   "display_name": "Python 3",
   "language": "python",
   "name": "python3"
  }
 },
 "nbformat": 4,
 "nbformat_minor": 2
}
